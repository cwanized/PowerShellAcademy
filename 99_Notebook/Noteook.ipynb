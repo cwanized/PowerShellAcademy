{
 "cells": [
  {
   "cell_type": "markdown",
   "metadata": {},
   "source": [
    "# Datatypes: Arrays @() & Hashtables@{}"
   ]
  },
  {
   "cell_type": "markdown",
   "metadata": {},
   "source": [
    "## Arrays\n",
    "In PowerShell sind Arrays eine Datenstruktur, die es ermöglicht, mehrere Werte in einer einzigen Variablen zu speichern. Arrays können verschiedene Datentypen enthalten und werden häufig verwendet, um Listen von Elementen zu verwalten."
   ]
  },
  {
   "cell_type": "code",
   "execution_count": null,
   "metadata": {},
   "outputs": [],
   "source": [
    "# PowerShell cell\n",
    "\n",
    "\n",
    "#Create simple arrays\n",
    "$array = @(\"Monday\",\"Tuesday\",\"Wednesday\",\"Thursday\",\"Friday\",\"Saturday\",\"Sunday\")\n",
    "\n",
    "$array.GetType()\n",
    "\n",
    "$array | Get-Member \n",
    "\n",
    "#Loop through array\n",
    "foreach($day in $array)\n",
    "{\n",
    "    Write-Output \"Today is $($day).\"\n",
    "}\n",
    "\n",
    "$day = 3\n",
    "Write-Output \"Day $($day) is: $($array[3])\"\n",
    "\n"
   ]
  },
  {
   "cell_type": "markdown",
   "metadata": {},
   "source": [
    "![Bildbeschreibung](./PowerShellCourse.png)\n"
   ]
  },
  {
   "cell_type": "markdown",
   "metadata": {},
   "source": [
    "## Hashtables\n",
    "In PowerShell sind Hashtables eine Sammlung von Schlüssel-Wert-Paaren. Sie ermöglichen es, Daten zu strukturieren und auf Werte über ihre zugehörigen Schlüssel zuzugreifen. Hashtables sind nützlich, um Daten mit eindeutigen Identifikatoren zu speichern und effizient abzurufen."
   ]
  },
  {
   "cell_type": "code",
   "execution_count": null,
   "metadata": {},
   "outputs": [],
   "source": [
    "\n",
    "\n",
    "\n",
    "\n",
    "############################\n",
    "\n",
    "\n",
    "#Create persona hashtable record\n",
    "$hashtable = @{\n",
    "    \"Name\" = \"Mustermann\"\n",
    "    \"Status\" = \"Active\"\n",
    "    \"Mail\" = \"MusterMman@Domain.tld\"    \n",
    "}\n",
    "\n",
    "#Add new key to persona\n",
    "$hashtable.add(\"Phone\",\"+41581230000\")\n",
    "$hashtable.Location = \"GR\"\n",
    "\n",
    "\n",
    "#Create User list with age\n",
    "$ageList = @{}\n",
    "$key = 'Kevin'\n",
    "$value = 36\n",
    "$ageList.add( $key, $value )\n",
    "\n",
    "$ageList.add( 'Alex', 9 )\n",
    "\n",
    "$ageList['Kevin']\n",
    "$ageList['Alex']\n",
    "\n",
    "\n",
    "#Lookup table variant 1\n",
    "$CurrentLanguage = \"DE\"\n",
    "$User = whoami\n",
    "\n",
    "$DIR_WelcomeText = @{\n",
    "    \"EN\" = \"Welcome\"\n",
    "    \"DE\" = \"Willkommen\"\n",
    "    \"IT\" = \"Buongiorno\"    \n",
    "    \"FR\" = \"Bonjour\"\n",
    "}\n",
    "\n",
    "\n",
    "Write-Host \"$($DIR_WelcomeText.$CurrentLanguage) $(whoami)\"\n",
    "\n"
   ]
  },
  {
   "cell_type": "code",
   "execution_count": null,
   "metadata": {},
   "outputs": [],
   "source": [
    "\n",
    "#Lookup table variant 2\n",
    "$ENV = \"Prod\"\n",
    "\n",
    "$DIR_AdDomain = @{\n",
    "    Prod = 'swisscom-mcc.local'\n",
    "    Int   = 'swisscom-mccint.local'\n",
    "    Dev  = 'swisscom-mccdev.local'\n",
    "}\n",
    "\n",
    "$domain = $DIR_AdDomain[$ENV]\n",
    "Write-host \"Current Domain is: $($domain)\"\n",
    "\n",
    "\n",
    "# Looping through hashtables Variant 1\n",
    "$DIR_AdDomain.GetEnumerator() | ForEach-Object{\n",
    "    Write-Output \"ENV is: '$($_.key)'\"\n",
    "    $message = '{0} AdDomain is: {1}' -f $_.key, $_.value\n",
    "    Write-Output $message\n",
    "    Write-Output \"\"\n",
    "   \n",
    "}\n",
    "\n",
    "# Looping through hashtables Variant 2\n",
    "foreach($environment in $DIR_AdDomain.GetEnumerator()){\n",
    "    Write-Output \"ENV is: '$($environment.key)' with '$($environment.value)'\"\n",
    "\n",
    "    Write-Output \"\"\n",
    "   \n",
    "}\n",
    "\n"
   ]
  },
  {
   "cell_type": "code",
   "execution_count": null,
   "metadata": {},
   "outputs": [],
   "source": []
  }
 ],
 "metadata": {
  "kernelspec": {
   "display_name": "PowerShell",
   "language": "powershell",
   "name": "powershell"
  },
  "language_info": {
   "codemirror_mode": "shell",
   "file_extension": ".ps1",
   "mimetype": "text/x-sh",
   "name": "powershell"
  }
 },
 "nbformat": 4,
 "nbformat_minor": 2
}
