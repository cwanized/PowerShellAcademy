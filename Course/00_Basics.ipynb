### ServicesAndFiles
`powershell
$RootFolder = "C:\temp"
Set-Location -Path $RootFolder

$allServices = Get-Service | select -First 10




foreach($service in $allServices){

    if(-not (Test-Path $service.name)){
        New-Item -Name $service.name -ItemType Directory    
    }

    #$filepath = "$($service.name)\status-$($service.name).txt"

    if(-not (Test-Path "$($service.name)\status-$($service.name).txt")){
        $item = New-Item -Path $service.name -Name "status-$($service.name).txt" -ItemType File
    }else{
        $item = Get-Item -Path "$($service.name)\status-$($service.name).txt"
    }
    
    $content = ($service | select *) | ConvertTo-Csv -Delimiter ";" -NoTypeInformation -Verbose
    Set-Content -Path $item.FullName -Value ($content)


}
`---
### ServicesAndFilesII
`powershell
$RootFolder = "C:\temp"
Set-Location -Path $RootFolder

[collections.arraylist]$myBigList = @()


#$allServices = (Get-Service | select -First 10).name

$allServices = @(
    "AarSvc_1d7cf4",
    "AdobeARMservice",
    "AdtAgent",
    "AJRouter",
    "ALG",
    "AppIDSvc",
    "Appinfo",
    "AppMgmt",
    "appprotectionsvc",
    "AppReadiness"
)


foreach($service in $allServices){
    $data = Get-content -Path ".\$($service)\status-$($service).txt"
    $data

    $ListEntry = [psCustomObject]@{
        Servicename = $service
        Data         = $data | ConvertFrom-Csv -Delimiter ";"
        DataRaw         = $data
    } 
    $myBigList.add($ListEntry) | out-null   
}
`---
